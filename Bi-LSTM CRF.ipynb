{
 "cells": [
  {
   "cell_type": "code",
   "execution_count": 1,
   "id": "35af8e63",
   "metadata": {},
   "outputs": [
    {
     "name": "stderr",
     "output_type": "stream",
     "text": [
      "Using TensorFlow backend.\n"
     ]
    },
    {
     "name": "stdout",
     "output_type": "stream",
     "text": [
      "Collecting git+https://www.github.com/keras-team/keras-contrib.git\n",
      "  Cloning https://www.github.com/keras-team/keras-contrib.git to /private/var/folders/dx/_bt2j1p91sjf3jhvjlmckjl00000gn/T/pip-req-build-kc56g3dz\n",
      "  Running command git clone -q https://www.github.com/keras-team/keras-contrib.git /private/var/folders/dx/_bt2j1p91sjf3jhvjlmckjl00000gn/T/pip-req-build-kc56g3dz\n",
      "  Resolved https://www.github.com/keras-team/keras-contrib.git to commit 3fc5ef709e061416f4bc8a92ca3750c824b5d2b0\n",
      "Requirement already satisfied: keras in /opt/anaconda3/envs/pytorch_p38/lib/python3.8/site-packages (from keras-contrib==2.0.8) (2.3.1)\n",
      "Requirement already satisfied: six>=1.9.0 in /opt/anaconda3/envs/pytorch_p38/lib/python3.8/site-packages (from keras->keras-contrib==2.0.8) (1.16.0)\n",
      "Requirement already satisfied: keras-preprocessing>=1.0.5 in /opt/anaconda3/envs/pytorch_p38/lib/python3.8/site-packages (from keras->keras-contrib==2.0.8) (1.1.2)\n",
      "Requirement already satisfied: pyyaml in /opt/anaconda3/envs/pytorch_p38/lib/python3.8/site-packages (from keras->keras-contrib==2.0.8) (6.0)\n",
      "Requirement already satisfied: scipy>=0.14 in /opt/anaconda3/envs/pytorch_p38/lib/python3.8/site-packages (from keras->keras-contrib==2.0.8) (1.4.1)\n",
      "Requirement already satisfied: h5py in /opt/anaconda3/envs/pytorch_p38/lib/python3.8/site-packages (from keras->keras-contrib==2.0.8) (2.10.0)\n",
      "Requirement already satisfied: numpy>=1.9.1 in /opt/anaconda3/envs/pytorch_p38/lib/python3.8/site-packages (from keras->keras-contrib==2.0.8) (1.22.3)\n",
      "Requirement already satisfied: keras-applications>=1.0.6 in /opt/anaconda3/envs/pytorch_p38/lib/python3.8/site-packages (from keras->keras-contrib==2.0.8) (1.0.8)\n"
     ]
    }
   ],
   "source": [
    "import numpy as np \n",
    "import pandas as pd \n",
    "import keras\n",
    "from sklearn.model_selection import train_test_split\n",
    "from math import nan\n",
    "from keras.callbacks import ModelCheckpoint\n",
    "from future.utils import iteritems\n",
    "!pip install git+https://www.github.com/keras-team/keras-contrib.git\n",
    "from keras_contrib.layers import CRF\n",
    "from keras.preprocessing.sequence import pad_sequences\n",
    "from keras.utils import to_categorical\n",
    "from sklearn.metrics import classification_report\n",
    "import matplotlib.pyplot as plt\n",
    "\n",
    "from subprocess import check_output\n",
    "from keras.models import Model, Input\n",
    "from keras.layers import LSTM, Embedding, Dense, TimeDistributed, Dropout, Bidirectional\n",
    "import keras as k"
   ]
  },
  {
   "cell_type": "code",
   "execution_count": 5,
   "id": "7c533f02",
   "metadata": {},
   "outputs": [],
   "source": [
    "datasets = pd.read_csv('train_data/conll.txt', sep=\" \", \n",
    "                         names = [\"word\", \"POS_tag\",\"chunk_tag\", \"NER_tag\", \"Sentence #\"],\n",
    "                         index_col = False)\n",
    "datasets = datasets.dropna()\n",
    "datasets = datasets[['Sentence #', 'word', 'NER_tag']]"
   ]
  },
  {
   "cell_type": "code",
   "execution_count": 6,
   "id": "c7efc1a0",
   "metadata": {},
   "outputs": [],
   "source": [
    "def Characteristics(word, caseLookup):\n",
    "\n",
    "    numDigits = 0\n",
    "    for char in word:\n",
    "        if char.isdigit():\n",
    "            numDigits += 1\n",
    "\n",
    "    digitFraction = numDigits / float(len(word))\n",
    "\n",
    "    if word.isdigit():  # Is a digit\n",
    "        casing = 'numeric'\n",
    "    elif digitFraction > 0.5:\n",
    "        casing = 'mainly_numeric'\n",
    "    elif word.islower():  # All lower case\n",
    "        casing = 'allLower'\n",
    "    elif word.isupper():  # All upper case\n",
    "        casing = 'allUpper'\n",
    "    elif word[0].isupper():  # is a title, initial char upper, then all lower\n",
    "        casing = 'initialUpper'\n",
    "    elif numDigits > 0:\n",
    "        casing = 'contains_digit'\n",
    "\n",
    "    return caseLookup[casing]"
   ]
  },
  {
   "cell_type": "code",
   "execution_count": 8,
   "id": "d6580478",
   "metadata": {},
   "outputs": [],
   "source": [
    "class SentenceGetter(object):\n",
    "    \n",
    "    def __init__(self, dataset):\n",
    "        self.n_sent = 1\n",
    "        self.dataset = dataset\n",
    "        self.empty = False\n",
    "        agg_func = lambda s: [(w, n) for w, n in zip(s[\"word\"].values.tolist(),\n",
    "                                                        s[\"NER_tag\"].values.tolist())]\n",
    "        self.grouped = self.dataset.groupby(\"Sentence #\").apply(agg_func)\n",
    "        self.sentences = [s for s in self.grouped]\n",
    "    \n",
    "    def get_next(self):\n",
    "        try:\n",
    "            s = self.grouped[\"Sentence: {}\".format(self.n_sent)]\n",
    "            self.n_sent += 1\n",
    "            return s\n",
    "        except:\n",
    "            return None"
   ]
  },
  {
   "cell_type": "code",
   "execution_count": 9,
   "id": "23e35842",
   "metadata": {},
   "outputs": [],
   "source": [
    "getter = SentenceGetter(datasets)\n",
    "sentences = getter.sentences"
   ]
  },
  {
   "cell_type": "code",
   "execution_count": 14,
   "id": "06a70670",
   "metadata": {},
   "outputs": [],
   "source": [
    "maxLen = max([len(s) for s in sentences])\n",
    "words = list(set(datasets[\"word\"].values))\n",
    "words.append(\"ENDPAD\")\n",
    "nWords = len(words)\n",
    "\n",
    "tags = []\n",
    "for tag in set(datasets[\"NER_tag\"].values):\n",
    "    if tag is nan or isinstance(tag, float):\n",
    "        tags.append('unk')\n",
    "    else:\n",
    "        tags.append(tag)\n",
    "nTags = len(tags)"
   ]
  },
  {
   "cell_type": "code",
   "execution_count": 34,
   "id": "7b96715c",
   "metadata": {},
   "outputs": [],
   "source": [
    "case2Idx = {'numeric': 0, 'allLower': 1, 'allUpper': 2, 'initialUpper': 3, 'other': 4, 'mainly_numeric': 5,\n",
    "            'contains_digit': 6, 'PADDING_TOKEN': 7}\n",
    "caseEmbeddings = np.identity(len(case2Idx), dtype='float32')\n",
    "\n",
    "char2Idx = {\"PADDING\": 0, \"UNKNOWN\": 1}\n",
    "for c in \" 0123456789abcdefghijklmnopqrstuvwxyzABCDEFGHIJKLMNOPQRSTUVWXYZ.,-_()[]{}!?:;#'\\\"/\\\\%$`&=*+@^~|<>\":\n",
    "    char2Idx[c] = len(char2Idx)"
   ]
  },
  {
   "cell_type": "code",
   "execution_count": 36,
   "id": "97bad55e",
   "metadata": {},
   "outputs": [],
   "source": [
    "word2Idx = {}\n",
    "wordEmbeddings = []\n",
    "\n",
    "fEmbeddings = open(\"glove.6B.50d.txt\", encoding=\"utf-8\")\n",
    "\n",
    "# loop through each word in embeddings\n",
    "for line in fEmbeddings:\n",
    "    split = line.strip().split(\" \")\n",
    "    word = split[0]  # embedding word entry\n",
    "\n",
    "    if len(word2Idx) == 0:  # add padding+unknown\n",
    "        word2Idx[\"PADDING_TOKEN\"] = len(word2Idx)\n",
    "        vector = np.zeros(len(split) - 1)  # zero vector for 'PADDING' word\n",
    "        wordEmbeddings.append(vector)\n",
    "\n",
    "        word2Idx[\"UNKNOWN_TOKEN\"] = len(word2Idx)\n",
    "        vector = np.random.uniform(-0.25, 0.25, len(split) - 1)\n",
    "        wordEmbeddings.append(vector)\n",
    "\n",
    "    if split[0].lower() in words:\n",
    "        vector = np.array([float(num) for num in split[1:]])\n",
    "        wordEmbeddings.append(vector)  # word embedding vector\n",
    "        word2Idx[split[0]] = len(word2Idx)  # corresponding word dict"
   ]
  },
  {
   "cell_type": "code",
   "execution_count": 13,
   "id": "bfb3c4f7",
   "metadata": {},
   "outputs": [],
   "source": [
    "word2idx = {w: i for i, w in enumerate(words)}\n",
    "tag2idx = {t: i for i, t in enumerate(tags)}\n",
    "idx2tag = {v: k for k, v in iteritems(tag2idx)}\n",
    "\n",
    "X = [[word2idx[words[0]] for words in s] for s in sentences]\n",
    "X = pad_sequences(maxlen = 150, sequences = X, padding=\"post\", value = nWords - 1)\n",
    "yID = [[tag2idx[words[1]] for words in s] for s in sentences]\n",
    "y = pad_sequences(maxlen = 150, sequences = yID, padding = \"post\", value = tag2idx[\"O\"])\n",
    "\n",
    "y = [to_categorical(i, num_classes = nTags) for i in y]\n",
    "X_train, X_test, y_train, y_test = train_test_split(X, y, test_size=0.2)"
   ]
  },
  {
   "cell_type": "code",
   "execution_count": 22,
   "id": "ccde9dd9",
   "metadata": {},
   "outputs": [],
   "source": [
    "inputLayer = Input(shape=(150,))\n",
    "wordEmbeddingSize = 400\n",
    "model = Embedding(input_dim = nWords, output_dim = wordEmbeddingSize, input_length = 150)(inputLayer)\n",
    "\n",
    "model = Bidirectional(LSTM(units = wordEmbeddingSize, \n",
    "                           return_sequences=True, \n",
    "                           dropout = 0.2, \n",
    "                           recurrent_dropout = 0.3, \n",
    "                           kernel_initializer = k.initializers.he_normal()))(model)\n",
    "\n",
    "model = LSTM(units = wordEmbeddingSize * 2, \n",
    "             return_sequences = True, \n",
    "             dropout = 0.2, \n",
    "             recurrent_dropout = 0.3, \n",
    "             kernel_initializer = k.initializers.he_normal())(model)\n",
    "\n",
    "model = TimeDistributed(Dense(nTags, activation=\"relu\"))(model)  \n",
    "\n",
    "crf = CRF(nTags)  \n",
    "outPut = crf(model)  "
   ]
  },
  {
   "cell_type": "code",
   "execution_count": 19,
   "id": "69e7e730",
   "metadata": {},
   "outputs": [],
   "source": [
    "model = Model(inputLayer, outPut)"
   ]
  },
  {
   "cell_type": "code",
   "execution_count": 15,
   "id": "54f1deba",
   "metadata": {},
   "outputs": [],
   "source": [
    "adam = k.optimizers.Adam(lr = 0.0005, beta_1 = 0.5, beta_2 = 0.5)\n",
    "model.compile(optimizer = adam, loss = crf.loss_function, metrics=[crf.accuracy, 'acc'])"
   ]
  },
  {
   "cell_type": "code",
   "execution_count": 16,
   "id": "a602447d",
   "metadata": {},
   "outputs": [
    {
     "name": "stdout",
     "output_type": "stream",
     "text": [
      "Model: \"model_1\"\n",
      "_________________________________________________________________\n",
      "Layer (type)                 Output Shape              Param #   \n",
      "=================================================================\n",
      "input_1 (InputLayer)         (None, 140)               0         \n",
      "_________________________________________________________________\n",
      "embedding_1 (Embedding)      (None, 140, 300)          4622100   \n",
      "_________________________________________________________________\n",
      "bidirectional_1 (Bidirection (None, 140, 600)          1442400   \n",
      "_________________________________________________________________\n",
      "lstm_2 (LSTM)                (None, 140, 600)          2882400   \n",
      "_________________________________________________________________\n",
      "time_distributed_1 (TimeDist (None, 140, 4)            2404      \n",
      "_________________________________________________________________\n",
      "crf_1 (CRF)                  (None, 140, 4)            44        \n",
      "=================================================================\n",
      "Total params: 8,949,348\n",
      "Trainable params: 8,949,348\n",
      "Non-trainable params: 0\n",
      "_________________________________________________________________\n"
     ]
    }
   ],
   "source": [
    "model.summary()"
   ]
  },
  {
   "cell_type": "code",
   "execution_count": 17,
   "id": "9682deba",
   "metadata": {},
   "outputs": [],
   "source": [
    "filepath=\"ner-bi-lstm-td-model-{val_acc:.2f}.hdf5\"\n",
    "checkpoint = ModelCheckpoint(filepath, monitor='acc', verbose=1, save_best_only=True, mode='max')\n",
    "callbacks_list = [checkpoint]"
   ]
  },
  {
   "cell_type": "code",
   "execution_count": 18,
   "id": "6cff2209",
   "metadata": {},
   "outputs": [
    {
     "name": "stdout",
     "output_type": "stream",
     "text": [
      "Train on 4752 samples, validate on 1189 samples\n",
      "Epoch 1/20\n",
      "4752/4752 [==============================] - 514s 108ms/step - loss: 0.1042 - crf_viterbi_accuracy: 0.9673 - acc: 0.0073 - val_loss: 0.0967 - val_crf_viterbi_accuracy: 0.9672 - val_acc: 0.9673\n",
      "\n",
      "Epoch 00001: acc improved from -inf to 0.00731, saving model to ner-bi-lstm-td-model-0.97.hdf5\n",
      "Epoch 2/20\n",
      "4752/4752 [==============================] - 518s 109ms/step - loss: 0.0887 - crf_viterbi_accuracy: 0.9692 - acc: 0.0073 - val_loss: 0.0849 - val_crf_viterbi_accuracy: 0.9688 - val_acc: 0.9689\n",
      "\n",
      "Epoch 00002: acc did not improve from 0.00731\n",
      "Epoch 3/20\n",
      "4752/4752 [==============================] - 526s 111ms/step - loss: 0.0779 - crf_viterbi_accuracy: 0.9712 - acc: 0.0073 - val_loss: 0.0760 - val_crf_viterbi_accuracy: 0.9708 - val_acc: 0.9710\n",
      "\n",
      "Epoch 00003: acc did not improve from 0.00731\n",
      "Epoch 4/20\n",
      "4752/4752 [==============================] - 522s 110ms/step - loss: 0.0692 - crf_viterbi_accuracy: 0.9731 - acc: 0.0073 - val_loss: 0.0691 - val_crf_viterbi_accuracy: 0.9723 - val_acc: 0.9724\n",
      "\n",
      "Epoch 00004: acc did not improve from 0.00731\n",
      "Epoch 5/20\n",
      "4752/4752 [==============================] - 523s 110ms/step - loss: 0.0618 - crf_viterbi_accuracy: 0.9747 - acc: 0.0073 - val_loss: 0.0633 - val_crf_viterbi_accuracy: 0.9740 - val_acc: 0.9742\n",
      "\n",
      "Epoch 00005: acc did not improve from 0.00731\n",
      "Epoch 6/20\n",
      "4752/4752 [==============================] - 514s 108ms/step - loss: 0.0550 - crf_viterbi_accuracy: 0.9766 - acc: 0.0073 - val_loss: 0.0573 - val_crf_viterbi_accuracy: 0.9755 - val_acc: 0.9756\n",
      "\n",
      "Epoch 00006: acc did not improve from 0.00731\n",
      "Epoch 7/20\n",
      "4752/4752 [==============================] - 515s 108ms/step - loss: 0.0489 - crf_viterbi_accuracy: 0.9783 - acc: 0.0073 - val_loss: 0.0531 - val_crf_viterbi_accuracy: 0.9767 - val_acc: 0.9769\n",
      "\n",
      "Epoch 00007: acc did not improve from 0.00731\n",
      "Epoch 8/20\n",
      "4752/4752 [==============================] - 2390s 503ms/step - loss: 0.0445 - crf_viterbi_accuracy: 0.9796 - acc: 0.0073 - val_loss: 0.0502 - val_crf_viterbi_accuracy: 0.9780 - val_acc: 0.9782\n",
      "\n",
      "Epoch 00008: acc did not improve from 0.00731\n",
      "Epoch 9/20\n",
      "4752/4752 [==============================] - 663s 140ms/step - loss: 0.0413 - crf_viterbi_accuracy: 0.9806 - acc: 0.0073 - val_loss: 0.0490 - val_crf_viterbi_accuracy: 0.9785 - val_acc: 0.9787\n",
      "\n",
      "Epoch 00009: acc did not improve from 0.00731\n",
      "Epoch 10/20\n",
      "4752/4752 [==============================] - 16349s 3s/step - loss: 0.0391 - crf_viterbi_accuracy: 0.9813 - acc: 0.0073 - val_loss: 0.0489 - val_crf_viterbi_accuracy: 0.9786 - val_acc: 0.9787\n",
      "\n",
      "Epoch 00010: acc did not improve from 0.00731\n",
      "Epoch 11/20\n",
      "4752/4752 [==============================] - 560s 118ms/step - loss: 0.0371 - crf_viterbi_accuracy: 0.9820 - acc: 0.0073 - val_loss: 0.0474 - val_crf_viterbi_accuracy: 0.9792 - val_acc: 0.9794\n",
      "\n",
      "Epoch 00011: acc did not improve from 0.00731\n",
      "Epoch 12/20\n",
      "4752/4752 [==============================] - 529s 111ms/step - loss: 0.0358 - crf_viterbi_accuracy: 0.9824 - acc: 0.0073 - val_loss: 0.0475 - val_crf_viterbi_accuracy: 0.9795 - val_acc: 0.9796\n",
      "\n",
      "Epoch 00012: acc did not improve from 0.00731\n",
      "Epoch 13/20\n",
      "4752/4752 [==============================] - 499s 105ms/step - loss: 0.0343 - crf_viterbi_accuracy: 0.9829 - acc: 0.0073 - val_loss: 0.0464 - val_crf_viterbi_accuracy: 0.9796 - val_acc: 0.9798\n",
      "\n",
      "Epoch 00013: acc did not improve from 0.00731\n",
      "Epoch 14/20\n",
      "4752/4752 [==============================] - 512s 108ms/step - loss: 0.0330 - crf_viterbi_accuracy: 0.9833 - acc: 0.0073 - val_loss: 0.0456 - val_crf_viterbi_accuracy: 0.9803 - val_acc: 0.9805\n",
      "\n",
      "Epoch 00014: acc did not improve from 0.00731\n",
      "Epoch 15/20\n",
      "4752/4752 [==============================] - 493s 104ms/step - loss: 0.0318 - crf_viterbi_accuracy: 0.9842 - acc: 0.0073 - val_loss: 0.0458 - val_crf_viterbi_accuracy: 0.9801 - val_acc: 0.9803\n",
      "\n",
      "Epoch 00015: acc did not improve from 0.00731\n",
      "Epoch 16/20\n",
      "4752/4752 [==============================] - 555s 117ms/step - loss: 0.0309 - crf_viterbi_accuracy: 0.9845 - acc: 0.0073 - val_loss: 0.0464 - val_crf_viterbi_accuracy: 0.9803 - val_acc: 0.9804\n",
      "\n",
      "Epoch 00016: acc did not improve from 0.00731\n",
      "Epoch 17/20\n",
      "4752/4752 [==============================] - 555s 117ms/step - loss: 0.0300 - crf_viterbi_accuracy: 0.9848 - acc: 0.0073 - val_loss: 0.0449 - val_crf_viterbi_accuracy: 0.9810 - val_acc: 0.9811\n",
      "\n",
      "Epoch 00017: acc did not improve from 0.00731\n",
      "Epoch 18/20\n",
      "4752/4752 [==============================] - 493s 104ms/step - loss: 0.0291 - crf_viterbi_accuracy: 0.9856 - acc: 0.0073 - val_loss: 0.0450 - val_crf_viterbi_accuracy: 0.9811 - val_acc: 0.9813\n",
      "\n",
      "Epoch 00018: acc did not improve from 0.00731\n",
      "Epoch 19/20\n",
      "4752/4752 [==============================] - 560s 118ms/step - loss: 0.0283 - crf_viterbi_accuracy: 0.9858 - acc: 0.0073 - val_loss: 0.0444 - val_crf_viterbi_accuracy: 0.9812 - val_acc: 0.9813\n",
      "\n",
      "Epoch 00019: acc did not improve from 0.00731\n",
      "Epoch 20/20\n",
      "4752/4752 [==============================] - 595s 125ms/step - loss: 0.0275 - crf_viterbi_accuracy: 0.9861 - acc: 0.0073 - val_loss: 0.0452 - val_crf_viterbi_accuracy: 0.9811 - val_acc: 0.9813\n",
      "\n",
      "Epoch 00020: acc did not improve from 0.00731\n"
     ]
    }
   ],
   "source": [
    "history = model.fit(X_train, np.array(y_train), batch_size=256, epochs=20, validation_split=0.2, verbose=1, callbacks=callbacks_list)"
   ]
  },
  {
   "cell_type": "code",
   "execution_count": 27,
   "id": "3e6bdda1",
   "metadata": {},
   "outputs": [],
   "source": [
    "his = pd.DataFrame(history.history)"
   ]
  },
  {
   "cell_type": "code",
   "execution_count": 32,
   "id": "b19a921b",
   "metadata": {},
   "outputs": [
    {
     "data": {
      "image/png": "[encoded data removed]",
      "text/plain": [
       "<Figure size 576x576 with 1 Axes>"
      ]
     },
     "metadata": {},
     "output_type": "display_data"
    }
   ],
   "source": [
    "plt.style.use(\"ggplot\")\n",
    "plt.figure(figsize=(8,8))\n",
    "plt.plot(his[\"crf_viterbi_accuracy\"], label = \"crf_viterbi_accuracy\")\n",
    "plt.plot(his[\"val_crf_viterbi_accuracy\"], label = 'val_crf_viterbi_accuracy')\n",
    "plt.legend(loc=\"upper left\")\n",
    "plt.show()"
   ]
  },
  {
   "cell_type": "code",
   "execution_count": 21,
   "id": "37a5ceeb",
   "metadata": {},
   "outputs": [],
   "source": [
    "p = model.predict(np.array(X_test))  "
   ]
  },
  {
   "cell_type": "code",
   "execution_count": 24,
   "id": "e27cd269",
   "metadata": {},
   "outputs": [
    {
     "name": "stdout",
     "output_type": "stream",
     "text": [
      "              precision    recall  f1-score   support\n",
      "\n",
      "        test       0.47      0.37      0.42      1501\n",
      "     problem       0.79      0.85      0.82      3319\n",
      "           O       0.99      1.00      0.99    201496\n",
      "   treatment       0.00      0.00      0.00      1724\n",
      "\n",
      "    accuracy                           0.98    208040\n",
      "   macro avg       0.56      0.55      0.56    208040\n",
      "weighted avg       0.97      0.98      0.98    208040\n",
      "\n"
     ]
    },
    {
     "name": "stderr",
     "output_type": "stream",
     "text": [
      "/opt/anaconda3/envs/pytorch_p38/lib/python3.8/site-packages/sklearn/metrics/_classification.py:1221: UndefinedMetricWarning: Precision and F-score are ill-defined and being set to 0.0 in labels with no predicted samples. Use `zero_division` parameter to control this behavior.\n",
      "  _warn_prf(average, modifier, msg_start, len(result))\n"
     ]
    }
   ],
   "source": [
    "print(classification_report(np.argmax(y_test, 2).ravel(), np.argmax(p, axis=2).ravel(),labels=list(idx2tag.keys()), target_names=list(idx2tag.values())))"
   ]
  }
 ],
 "metadata": {
  "kernelspec": {
   "display_name": "Python 3 (ipykernel)",
   "language": "python",
   "name": "python3"
  },
  "language_info": {
   "codemirror_mode": {
    "name": "ipython",
    "version": 3
   },
   "file_extension": ".py",
   "mimetype": "text/x-python",
   "name": "python",
   "nbconvert_exporter": "python",
   "pygments_lexer": "ipython3",
   "version": "3.8.12"
  }
 },
 "nbformat": 4,
 "nbformat_minor": 5
}
